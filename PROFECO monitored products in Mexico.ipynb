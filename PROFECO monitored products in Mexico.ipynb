{
 "cells": [
  {
   "cell_type": "markdown",
   "id": "febad631",
   "metadata": {},
   "source": [
    "\n",
    "# Project for Wizeline's Data Engineering Bootcamp"
   ]
  },
  {
   "cell_type": "markdown",
   "id": "ba55a783",
   "metadata": {},
   "source": [
    "## PAUL RICARDO FELIX TRUJILLO"
   ]
  },
  {
   "cell_type": "markdown",
   "id": "a00f6896",
   "metadata": {},
   "source": [
    "### Exploratory Analysis"
   ]
  },
  {
   "cell_type": "markdown",
   "id": "042879ca",
   "metadata": {},
   "source": [
    "The Customer Service team at Profeco (Mexican Consumer Protection Agency) wants to analyze the monitored products in Mexico."
   ]
  },
  {
   "cell_type": "markdown",
   "id": "31d2a557",
   "metadata": {},
   "source": [
    "### Importing libraries"
   ]
  },
  {
   "cell_type": "markdown",
   "id": "ecc82894",
   "metadata": {},
   "source": [
    "First, I imported all the necessary libraries to work the dataset. In this case panda is the only library imported."
   ]
  },
  {
   "cell_type": "code",
   "execution_count": null,
   "id": "31a2700c",
   "metadata": {},
   "outputs": [],
   "source": [
    "import pandas as pd"
   ]
  },
  {
   "cell_type": "markdown",
   "id": "d8196ef6",
   "metadata": {},
   "source": [
    "### Review the dataset structure"
   ]
  },
  {
   "cell_type": "markdown",
   "id": "ae567b1d",
   "metadata": {},
   "source": [
    "To know the dataset structure and the possible values in it, I read the first 4 rows and headers. this allows me to find some interesting information like the relationship between the product and its presentation"
   ]
  },
  {
   "cell_type": "code",
   "execution_count": 5,
   "id": "5bcf18ce",
   "metadata": {},
   "outputs": [
    {
     "data": {
      "text/html": [
       "<div>\n",
       "<style scoped>\n",
       "    .dataframe tbody tr th:only-of-type {\n",
       "        vertical-align: middle;\n",
       "    }\n",
       "\n",
       "    .dataframe tbody tr th {\n",
       "        vertical-align: top;\n",
       "    }\n",
       "\n",
       "    .dataframe thead th {\n",
       "        text-align: right;\n",
       "    }\n",
       "</style>\n",
       "<table border=\"1\" class=\"dataframe\">\n",
       "  <thead>\n",
       "    <tr style=\"text-align: right;\">\n",
       "      <th></th>\n",
       "      <th>producto</th>\n",
       "      <th>presentacion</th>\n",
       "      <th>marca</th>\n",
       "      <th>categoria</th>\n",
       "      <th>catalogo</th>\n",
       "      <th>precio</th>\n",
       "      <th>fechaRegistro</th>\n",
       "      <th>cadenaComercial</th>\n",
       "      <th>giro</th>\n",
       "      <th>nombreComercial</th>\n",
       "      <th>direccion</th>\n",
       "      <th>estado</th>\n",
       "      <th>municipio</th>\n",
       "      <th>latitud</th>\n",
       "      <th>longitud</th>\n",
       "    </tr>\n",
       "  </thead>\n",
       "  <tbody>\n",
       "    <tr>\n",
       "      <th>0</th>\n",
       "      <td>CUADERNO FORMA ITALIANA</td>\n",
       "      <td>96 HOJAS PASTA DURA. CUADRICULA CHICA</td>\n",
       "      <td>ESTRELLA</td>\n",
       "      <td>MATERIAL ESCOLAR</td>\n",
       "      <td>UTILES ESCOLARES</td>\n",
       "      <td>25.9</td>\n",
       "      <td>2011-05-18 00:00:00.000</td>\n",
       "      <td>ABASTECEDORA LUMEN</td>\n",
       "      <td>PAPELERIAS</td>\n",
       "      <td>ABASTECEDORA LUMEN SUCURSAL VILLA COAPA</td>\n",
       "      <td>CANNES No. 6 ESQ. CANAL DE MIRAMONTES</td>\n",
       "      <td>DISTRITO FEDERAL</td>\n",
       "      <td>TLALPAN</td>\n",
       "      <td>19.29699</td>\n",
       "      <td>-99.125417</td>\n",
       "    </tr>\n",
       "    <tr>\n",
       "      <th>1</th>\n",
       "      <td>CRAYONES</td>\n",
       "      <td>CAJA 12 CERAS. JUMBO. C.B. 201423</td>\n",
       "      <td>CRAYOLA</td>\n",
       "      <td>MATERIAL ESCOLAR</td>\n",
       "      <td>UTILES ESCOLARES</td>\n",
       "      <td>27.5</td>\n",
       "      <td>2011-05-18 00:00:00.000</td>\n",
       "      <td>ABASTECEDORA LUMEN</td>\n",
       "      <td>PAPELERIAS</td>\n",
       "      <td>ABASTECEDORA LUMEN SUCURSAL VILLA COAPA</td>\n",
       "      <td>CANNES No. 6 ESQ. CANAL DE MIRAMONTES</td>\n",
       "      <td>DISTRITO FEDERAL</td>\n",
       "      <td>TLALPAN</td>\n",
       "      <td>19.29699</td>\n",
       "      <td>-99.125417</td>\n",
       "    </tr>\n",
       "    <tr>\n",
       "      <th>2</th>\n",
       "      <td>CRAYONES</td>\n",
       "      <td>CAJA 12 CERAS. TAMANO REGULAR C.B. 201034</td>\n",
       "      <td>CRAYOLA</td>\n",
       "      <td>MATERIAL ESCOLAR</td>\n",
       "      <td>UTILES ESCOLARES</td>\n",
       "      <td>13.9</td>\n",
       "      <td>2011-05-18 00:00:00.000</td>\n",
       "      <td>ABASTECEDORA LUMEN</td>\n",
       "      <td>PAPELERIAS</td>\n",
       "      <td>ABASTECEDORA LUMEN SUCURSAL VILLA COAPA</td>\n",
       "      <td>CANNES No. 6 ESQ. CANAL DE MIRAMONTES</td>\n",
       "      <td>DISTRITO FEDERAL</td>\n",
       "      <td>TLALPAN</td>\n",
       "      <td>19.29699</td>\n",
       "      <td>-99.125417</td>\n",
       "    </tr>\n",
       "    <tr>\n",
       "      <th>3</th>\n",
       "      <td>COLORES DE MADERA</td>\n",
       "      <td>CAJA 12 PIEZAS LARGO. TRIANGULAR. C.B. 640646</td>\n",
       "      <td>PINCELIN</td>\n",
       "      <td>MATERIAL ESCOLAR</td>\n",
       "      <td>UTILES ESCOLARES</td>\n",
       "      <td>46.9</td>\n",
       "      <td>2011-05-18 00:00:00.000</td>\n",
       "      <td>ABASTECEDORA LUMEN</td>\n",
       "      <td>PAPELERIAS</td>\n",
       "      <td>ABASTECEDORA LUMEN SUCURSAL VILLA COAPA</td>\n",
       "      <td>CANNES No. 6 ESQ. CANAL DE MIRAMONTES</td>\n",
       "      <td>DISTRITO FEDERAL</td>\n",
       "      <td>TLALPAN</td>\n",
       "      <td>19.29699</td>\n",
       "      <td>-99.125417</td>\n",
       "    </tr>\n",
       "  </tbody>\n",
       "</table>\n",
       "</div>"
      ],
      "text/plain": [
       "                  producto                                   presentacion  \\\n",
       "0  CUADERNO FORMA ITALIANA          96 HOJAS PASTA DURA. CUADRICULA CHICA   \n",
       "1                 CRAYONES              CAJA 12 CERAS. JUMBO. C.B. 201423   \n",
       "2                 CRAYONES      CAJA 12 CERAS. TAMANO REGULAR C.B. 201034   \n",
       "3        COLORES DE MADERA  CAJA 12 PIEZAS LARGO. TRIANGULAR. C.B. 640646   \n",
       "\n",
       "      marca         categoria          catalogo  precio  \\\n",
       "0  ESTRELLA  MATERIAL ESCOLAR  UTILES ESCOLARES    25.9   \n",
       "1   CRAYOLA  MATERIAL ESCOLAR  UTILES ESCOLARES    27.5   \n",
       "2   CRAYOLA  MATERIAL ESCOLAR  UTILES ESCOLARES    13.9   \n",
       "3  PINCELIN  MATERIAL ESCOLAR  UTILES ESCOLARES    46.9   \n",
       "\n",
       "             fechaRegistro     cadenaComercial        giro  \\\n",
       "0  2011-05-18 00:00:00.000  ABASTECEDORA LUMEN  PAPELERIAS   \n",
       "1  2011-05-18 00:00:00.000  ABASTECEDORA LUMEN  PAPELERIAS   \n",
       "2  2011-05-18 00:00:00.000  ABASTECEDORA LUMEN  PAPELERIAS   \n",
       "3  2011-05-18 00:00:00.000  ABASTECEDORA LUMEN  PAPELERIAS   \n",
       "\n",
       "                           nombreComercial  \\\n",
       "0  ABASTECEDORA LUMEN SUCURSAL VILLA COAPA   \n",
       "1  ABASTECEDORA LUMEN SUCURSAL VILLA COAPA   \n",
       "2  ABASTECEDORA LUMEN SUCURSAL VILLA COAPA   \n",
       "3  ABASTECEDORA LUMEN SUCURSAL VILLA COAPA   \n",
       "\n",
       "                               direccion            estado  \\\n",
       "0  CANNES No. 6 ESQ. CANAL DE MIRAMONTES  DISTRITO FEDERAL   \n",
       "1  CANNES No. 6 ESQ. CANAL DE MIRAMONTES  DISTRITO FEDERAL   \n",
       "2  CANNES No. 6 ESQ. CANAL DE MIRAMONTES  DISTRITO FEDERAL   \n",
       "3  CANNES No. 6 ESQ. CANAL DE MIRAMONTES  DISTRITO FEDERAL   \n",
       "\n",
       "                                  municipio   latitud   longitud  \n",
       "0  TLALPAN                                   19.29699 -99.125417  \n",
       "1  TLALPAN                                   19.29699 -99.125417  \n",
       "2  TLALPAN                                   19.29699 -99.125417  \n",
       "3  TLALPAN                                   19.29699 -99.125417  "
      ]
     },
     "execution_count": 5,
     "metadata": {},
     "output_type": "execute_result"
    }
   ],
   "source": [
    "data_url = 'all_data.csv'\n",
    "sample_df = pd.read_csv(data_url,nrows=4)\n",
    "sample_df "
   ]
  },
  {
   "cell_type": "markdown",
   "id": "85ff8b86",
   "metadata": {},
   "source": [
    "### Selecting variables"
   ]
  },
  {
   "cell_type": "markdown",
   "id": "c69b7fca",
   "metadata": {},
   "source": [
    "Because of the size of the dataset, I only chose those columns that are relevant for this analysis. other alternatives would be reading the files with chunks and using libraries like google.colab (drive) linking it into your drive account."
   ]
  },
  {
   "cell_type": "code",
   "execution_count": 6,
   "id": "af4c0425",
   "metadata": {},
   "outputs": [],
   "source": [
    "col_list = [\"producto\",\"estado\",\"cadenaComercial\",\"presentacion\"]\n",
    "data_url = 'all_data.csv'\n",
    "df = pd.read_csv(data_url, usecols=col_list)"
   ]
  },
  {
   "cell_type": "code",
   "execution_count": 22,
   "id": "20722563",
   "metadata": {},
   "outputs": [
    {
     "data": {
      "text/html": [
       "<div>\n",
       "<style scoped>\n",
       "    .dataframe tbody tr th:only-of-type {\n",
       "        vertical-align: middle;\n",
       "    }\n",
       "\n",
       "    .dataframe tbody tr th {\n",
       "        vertical-align: top;\n",
       "    }\n",
       "\n",
       "    .dataframe thead th {\n",
       "        text-align: right;\n",
       "    }\n",
       "</style>\n",
       "<table border=\"1\" class=\"dataframe\">\n",
       "  <thead>\n",
       "    <tr style=\"text-align: right;\">\n",
       "      <th></th>\n",
       "      <th>producto</th>\n",
       "      <th>presentacion</th>\n",
       "      <th>cadenaComercial</th>\n",
       "      <th>estado</th>\n",
       "    </tr>\n",
       "  </thead>\n",
       "  <tbody>\n",
       "    <tr>\n",
       "      <th>0</th>\n",
       "      <td>CUADERNO FORMA ITALIANA</td>\n",
       "      <td>96 HOJAS PASTA DURA. CUADRICULA CHICA</td>\n",
       "      <td>ABASTECEDORA LUMEN</td>\n",
       "      <td>DISTRITO FEDERAL</td>\n",
       "    </tr>\n",
       "    <tr>\n",
       "      <th>1</th>\n",
       "      <td>CRAYONES</td>\n",
       "      <td>CAJA 12 CERAS. JUMBO. C.B. 201423</td>\n",
       "      <td>ABASTECEDORA LUMEN</td>\n",
       "      <td>DISTRITO FEDERAL</td>\n",
       "    </tr>\n",
       "    <tr>\n",
       "      <th>2</th>\n",
       "      <td>CRAYONES</td>\n",
       "      <td>CAJA 12 CERAS. TAMANO REGULAR C.B. 201034</td>\n",
       "      <td>ABASTECEDORA LUMEN</td>\n",
       "      <td>DISTRITO FEDERAL</td>\n",
       "    </tr>\n",
       "    <tr>\n",
       "      <th>3</th>\n",
       "      <td>COLORES DE MADERA</td>\n",
       "      <td>CAJA 12 PIEZAS LARGO. TRIANGULAR. C.B. 640646</td>\n",
       "      <td>ABASTECEDORA LUMEN</td>\n",
       "      <td>DISTRITO FEDERAL</td>\n",
       "    </tr>\n",
       "    <tr>\n",
       "      <th>4</th>\n",
       "      <td>COLOR LARGO</td>\n",
       "      <td>CAJA 36 PIEZAS. CON SACAPUNTAS. 68-4036</td>\n",
       "      <td>ABASTECEDORA LUMEN</td>\n",
       "      <td>DISTRITO FEDERAL</td>\n",
       "    </tr>\n",
       "  </tbody>\n",
       "</table>\n",
       "</div>"
      ],
      "text/plain": [
       "                  producto                                   presentacion     cadenaComercial            estado\n",
       "0  CUADERNO FORMA ITALIANA          96 HOJAS PASTA DURA. CUADRICULA CHICA  ABASTECEDORA LUMEN  DISTRITO FEDERAL\n",
       "1                 CRAYONES              CAJA 12 CERAS. JUMBO. C.B. 201423  ABASTECEDORA LUMEN  DISTRITO FEDERAL\n",
       "2                 CRAYONES      CAJA 12 CERAS. TAMANO REGULAR C.B. 201034  ABASTECEDORA LUMEN  DISTRITO FEDERAL\n",
       "3        COLORES DE MADERA  CAJA 12 PIEZAS LARGO. TRIANGULAR. C.B. 640646  ABASTECEDORA LUMEN  DISTRITO FEDERAL\n",
       "4              COLOR LARGO        CAJA 36 PIEZAS. CON SACAPUNTAS. 68-4036  ABASTECEDORA LUMEN  DISTRITO FEDERAL"
      ]
     },
     "execution_count": 22,
     "metadata": {},
     "output_type": "execute_result"
    }
   ],
   "source": [
    "df.head(5)"
   ]
  },
  {
   "cell_type": "markdown",
   "id": "aa214d64",
   "metadata": {},
   "source": [
    "## Responding the questions:"
   ]
  },
  {
   "cell_type": "markdown",
   "id": "c2333415",
   "metadata": {},
   "source": [
    "## Q1 : How many commercial chains are monitored, and therefore, included in this database?"
   ]
  },
  {
   "cell_type": "markdown",
   "id": "b804c23c",
   "metadata": {},
   "source": [
    "For the first question, que only need to search all the unique values in the <code>\"cadenaComercial\" </code> column. the command <code>nunique()</code> count the number of unique values in the column.\n"
   ]
  },
  {
   "cell_type": "code",
   "execution_count": 24,
   "id": "c049a6af",
   "metadata": {},
   "outputs": [
    {
     "name": "stdout",
     "output_type": "stream",
     "text": [
      "number of commercial chains monitored: \n"
     ]
    },
    {
     "data": {
      "text/plain": [
       "705"
      ]
     },
     "execution_count": 24,
     "metadata": {},
     "output_type": "execute_result"
    }
   ],
   "source": [
    "print(\"number of commercial chains monitored: \")\n",
    "df.cadenaComercial.nunique()"
   ]
  },
  {
   "cell_type": "markdown",
   "id": "4d6a15d8",
   "metadata": {},
   "source": [
    "## Q2: What are the top 10 monitored products by State?"
   ]
  },
  {
   "cell_type": "markdown",
   "id": "b653e2d7",
   "metadata": {},
   "source": [
    "The following answers show more extensive results. to see all the result, I modified the panda's displays values."
   ]
  },
  {
   "cell_type": "code",
   "execution_count": 9,
   "id": "d2baa7d5",
   "metadata": {},
   "outputs": [],
   "source": [
    "pd.set_option('display.max_rows', 1000)\n",
    "pd.set_option('display.max_columns', 1000)\n",
    "pd.set_option('display.width', 1000)"
   ]
  },
  {
   "cell_type": "markdown",
   "id": "5f0ffefd",
   "metadata": {},
   "source": [
    "Continuing with the second question, the code group the states with a count group of products to make a list. because <code> value_counts()</code> is already sorted, I just need to adjust the number of entries using <code>head () </code>  with the desired value, in this case 10. "
   ]
  },
  {
   "cell_type": "code",
   "execution_count": 19,
   "id": "f3a8ce76",
   "metadata": {},
   "outputs": [
    {
     "name": "stdout",
     "output_type": "stream",
     "text": [
      "Top 10 products by state\n"
     ]
    },
    {
     "data": {
      "text/plain": [
       "estado                           producto               \n",
       "AGUASCALIENTES                   FUD                         12005\n",
       "                                 DETERGENTE P/ROPA           10188\n",
       "                                 LECHE ULTRAPASTEURIZADA      9824\n",
       "                                 SHAMPOO                      9654\n",
       "                                 REFRESCO                     9481\n",
       "                                 DESODORANTE                  8859\n",
       "                                 JABON DE TOCADOR             8517\n",
       "                                 CHILES EN LATA               7946\n",
       "                                 YOGHURT                      7401\n",
       "                                 MAYONESA                     7173\n",
       "BAJA CALIFORNIA                  REFRESCO                    37243\n",
       "                                 DETERGENTE P/ROPA           23395\n",
       "                                 FUD                         19967\n",
       "                                 SHAMPOO                     19123\n",
       "                                 JABON DE TOCADOR            18348\n",
       "                                 CHILES EN LATA              16676\n",
       "                                 GALLETAS                    15873\n",
       "                                 PANTALLAS                   15703\n",
       "                                 CEREALES                    15398\n",
       "                                 DESODORANTE                 14748\n",
       "BAJA CALIFORNIA SUR              REFRESCO                    27770\n",
       "                                 FUD                         17776\n",
       "                                 PANTALLAS                   17383\n",
       "                                 DETERGENTE P/ROPA           15510\n",
       "                                 LAVADORAS                   13242\n",
       "                                 SHAMPOO                     12844\n",
       "                                 JABON DE TOCADOR            12799\n",
       "                                 CHILES EN LATA              11537\n",
       "                                 PLANCHAS                    11301\n",
       "                                 COMPONENTES DE AUDIO        11036\n",
       "CAMPECHE                         FUD                         12960\n",
       "                                 REFRESCO                    11333\n",
       "                                 PANTALLAS                   10449\n",
       "                                 LAVADORAS                    9729\n",
       "                                 DETERGENTE P/ROPA            8307\n",
       "                                 LECHE ULTRAPASTEURIZADA      8027\n",
       "                                 REFRIGERADORES               7572\n",
       "                                 SHAMPOO                      7560\n",
       "                                 JABON DE TOCADOR             7543\n",
       "                                 PLANCHAS                     7139\n",
       "CHIAPAS                          REFRESCO                    14452\n",
       "                                 FUD                         10417\n",
       "                                 DETERGENTE P/ROPA            8831\n",
       "                                 PANTALLAS                    8395\n",
       "                                 JABON DE TOCADOR             7841\n",
       "                                 CHILES EN LATA               7707\n",
       "                                 SHAMPOO                      7601\n",
       "                                 LECHE ULTRAPASTEURIZADA      7278\n",
       "                                 DESODORANTE                  7038\n",
       "                                 CERVEZA                      6980\n",
       "CHIHUAHUA                        DETERGENTE P/ROPA           15982\n",
       "                                 FUD                         14348\n",
       "                                 CHILES EN LATA              14189\n",
       "                                 SHAMPOO                     14179\n",
       "                                 JABON DE TOCADOR            13744\n",
       "                                 REFRESCO                    13554\n",
       "                                 PANTALLAS                   13064\n",
       "                                 MAYONESA                    12237\n",
       "                                 DESODORANTE                 11741\n",
       "                                 LAVADORAS                   11479\n",
       "COAHUILA DE ZARAGOZA             FUD                         28876\n",
       "                                 REFRESCO                    27164\n",
       "                                 DETERGENTE P/ROPA           26706\n",
       "                                 SHAMPOO                     21401\n",
       "                                 LECHE ULTRAPASTEURIZADA     21047\n",
       "                                 JABON DE TOCADOR            20283\n",
       "                                 PANTALLAS                   20216\n",
       "                                 LAVADORAS                   19801\n",
       "                                 CHILES EN LATA              19759\n",
       "                                 MAYONESA                    19026\n",
       "COLIMA                           DETERGENTE P/ROPA           17193\n",
       "                                 LECHE ULTRAPASTEURIZADA     14425\n",
       "                                 REFRESCO                    14383\n",
       "                                 FUD                         13757\n",
       "                                 JABON DE TOCADOR            13298\n",
       "                                 LAVADORAS                   13235\n",
       "                                 COMPONENTES DE AUDIO        13154\n",
       "                                 PANTALLAS                   13092\n",
       "                                 CHILES EN LATA              12819\n",
       "                                 SHAMPOO                     12678\n",
       "DISTRITO FEDERAL                 REFRESCO                   287463\n",
       "                                 FUD                        207569\n",
       "                                 LECHE ULTRAPASTEURIZADA    175640\n",
       "                                 DETERGENTE P/ROPA          173452\n",
       "                                 YOGHURT                    136720\n",
       "                                 CERVEZA                    136686\n",
       "                                 MAYONESA                   131103\n",
       "                                 CHILES EN LATA             130598\n",
       "                                 JABON DE TOCADOR           129889\n",
       "                                 SHAMPOO                    125603\n",
       "DURANGO                          DETERGENTE P/ROPA            9696\n",
       "                                 LAVADORAS                    9644\n",
       "                                 FUD                          8866\n",
       "                                 REFRESCO                     8579\n",
       "                                 PANTALLAS                    8329\n",
       "                                 SHAMPOO                      8074\n",
       "                                 COMPONENTES DE AUDIO         7876\n",
       "                                 JABON DE TOCADOR             7778\n",
       "                                 PLANCHAS                     7732\n",
       "                                 CHILES EN LATA               7425\n",
       "GUANAJUATO                       REFRESCO                    49441\n",
       "                                 DETERGENTE P/ROPA           36618\n",
       "                                 VARIOS                      35278\n",
       "                                 FUD                         33363\n",
       "                                 LECHE ULTRAPASTEURIZADA     32633\n",
       "                                 LAVADORAS                   31037\n",
       "                                 CHILES EN LATA              27190\n",
       "                                 JABON DE TOCADOR            26788\n",
       "                                 SHAMPOO                     26772\n",
       "                                 MAYONESA                    25205\n",
       "GUERRERO                         REFRESCO                     8932\n",
       "                                 FUD                          8846\n",
       "                                 DETERGENTE P/ROPA            6455\n",
       "                                 SHAMPOO                      6283\n",
       "                                 LECHE ULTRAPASTEURIZADA      5837\n",
       "                                 DESODORANTE                  5573\n",
       "                                 LAVADORAS                    5389\n",
       "                                 CERVEZA                      5289\n",
       "                                 JABON DE TOCADOR             5169\n",
       "                                 CHILES EN LATA               5020\n",
       "HIDALGO                          REFRESCO                    18137\n",
       "                                 LAVADORAS                   16519\n",
       "                                 DETERGENTE P/ROPA           15946\n",
       "                                 LECHE ULTRAPASTEURIZADA     13537\n",
       "                                 COMPONENTES DE AUDIO        13171\n",
       "                                 PLANCHAS                    12486\n",
       "                                 REFRIGERADORES              12378\n",
       "                                 SHAMPOO                     12278\n",
       "                                 JABON DE TOCADOR            11848\n",
       "                                 CHILES EN LATA              11803\n",
       "JALISCO                          REFRESCO                    81718\n",
       "                                 LECHE ULTRAPASTEURIZADA     81149\n",
       "                                 DETERGENTE P/ROPA           73854\n",
       "                                 FUD                         61680\n",
       "                                 CHILES EN LATA              55783\n",
       "                                 JABON DE TOCADOR            55196\n",
       "                                 SHAMPOO                     54409\n",
       "                                 MAYONESA                    53886\n",
       "                                 DESODORANTE                 46335\n",
       "                                 TOALLA FEMENINA             46019\n",
       "MICHOACÁN DE OCAMPO              DETERGENTE P/ROPA           40144\n",
       "                                 REFRESCO                    38016\n",
       "                                 LECHE ULTRAPASTEURIZADA     31175\n",
       "                                 CHILES EN LATA              25054\n",
       "                                 JABON DE TOCADOR            24587\n",
       "                                 MAYONESA                    23988\n",
       "                                 LAVADORAS                   23886\n",
       "                                 SHAMPOO                     22475\n",
       "                                 FUD                         21763\n",
       "                                 COMPONENTES DE AUDIO        20297\n",
       "MORELOS                          REFRESCO                     9632\n",
       "                                 FUD                          6909\n",
       "                                 DETERGENTE P/ROPA            5829\n",
       "                                 LAVADORAS                    5485\n",
       "                                 PANTALLAS                    4989\n",
       "                                 SHAMPOO                      4908\n",
       "                                 REFRIGERADORES               4647\n",
       "                                 LECHE ULTRAPASTEURIZADA      4539\n",
       "                                 DESODORANTE                  4521\n",
       "                                 JABON DE TOCADOR             4500\n",
       "MÉXICO                           REFRESCO                   194939\n",
       "                                 FUD                        149141\n",
       "                                 DETERGENTE P/ROPA          132862\n",
       "                                 LECHE ULTRAPASTEURIZADA    116522\n",
       "                                 JABON DE TOCADOR            97330\n",
       "                                 YOGHURT                     94852\n",
       "                                 MAYONESA                    94286\n",
       "                                 CHILES EN LATA              92539\n",
       "                                 SHAMPOO                     92307\n",
       "                                 CERVEZA                     91747\n",
       "NAYARIT                          REFRESCO                     8003\n",
       "                                 PANTALLAS                    7083\n",
       "                                 FUD                          6644\n",
       "                                 LAVADORAS                    6549\n",
       "                                 DETERGENTE P/ROPA            5514\n",
       "                                 COMPONENTES DE AUDIO         4999\n",
       "                                 SHAMPOO                      4975\n",
       "                                 JABON DE TOCADOR             4680\n",
       "                                 REFRIGERADORES               4578\n",
       "                                 PLANCHAS                     4509\n",
       "NUEVO LEÓN                       DETERGENTE P/ROPA           50307\n",
       "                                 REFRESCO                    49592\n",
       "                                 LECHE ULTRAPASTEURIZADA     43803\n",
       "                                 CHILES EN LATA              40561\n",
       "                                 SHAMPOO                     39827\n",
       "                                 JABON DE TOCADOR            38442\n",
       "                                 MAYONESA                    37607\n",
       "                                 FUD                         37200\n",
       "                                 TOALLA FEMENINA             32895\n",
       "                                 DESODORANTE                 31875\n",
       "OAXACA                           LECHE ULTRAPASTEURIZADA     18078\n",
       "                                 REFRESCO                    14501\n",
       "                                 DETERGENTE P/ROPA           14396\n",
       "                                 FUD                         13850\n",
       "                                 LAVADORAS                   12774\n",
       "                                 CHILES EN LATA              11053\n",
       "                                 COMPONENTES DE AUDIO        11026\n",
       "                                 JABON DE TOCADOR            10564\n",
       "                                 SHAMPOO                     10361\n",
       "                                 PANTALLAS                   10325\n",
       "PUEBLA                           REFRESCO                    31597\n",
       "                                 LAVADORAS                   27076\n",
       "                                 LECHE ULTRAPASTEURIZADA     24864\n",
       "                                 DETERGENTE P/ROPA           24078\n",
       "                                 FUD                         20397\n",
       "                                 PLANCHAS                    19547\n",
       "                                 JABON DE TOCADOR            19229\n",
       "                                 REFRIGERADORES              19150\n",
       "                                 PANTALLAS                   19009\n",
       "                                 COMPONENTES DE AUDIO        18907\n",
       "QUERÉTARO                        LECHE ULTRAPASTEURIZADA     27868\n",
       "                                 DETERGENTE P/ROPA           26700\n",
       "                                 REFRESCO                    25494\n",
       "                                 LAVADORAS                   20625\n",
       "                                 FUD                         19574\n",
       "                                 JABON DE TOCADOR            19544\n",
       "                                 SHAMPOO                     19417\n",
       "                                 CHILES EN LATA              18556\n",
       "                                 COMPONENTES DE AUDIO        16619\n",
       "                                 DESODORANTE                 16269\n",
       "QUINTANA ROO                     FUD                         34846\n",
       "                                 REFRESCO                    34367\n",
       "                                 LAVADORAS                   32347\n",
       "                                 LECHE ULTRAPASTEURIZADA     31155\n",
       "                                 DETERGENTE P/ROPA           28691\n",
       "                                 COMPONENTES DE AUDIO        24836\n",
       "                                 PANTALLAS                   24718\n",
       "                                 PLANCHAS                    24526\n",
       "                                 SHAMPOO                     24414\n",
       "                                 REFRIGERADORES              24096\n",
       "SAN LUIS POTOSÍ                  FUD                         10164\n",
       "                                 PANTALLAS                    8662\n",
       "                                 LAVADORAS                    7934\n",
       "                                 DETERGENTE P/ROPA            7380\n",
       "                                 PLANCHAS                     7260\n",
       "                                 LECHE ULTRAPASTEURIZADA      7095\n",
       "                                 REFRESCO                     6940\n",
       "                                 SHAMPOO                      6738\n",
       "                                 JABON DE TOCADOR             6389\n",
       "                                 ESTUFAS                      6266\n",
       "SINALOA                          REFRESCO                    33115\n",
       "                                 DETERGENTE P/ROPA           27177\n",
       "                                 SHAMPOO                     22435\n",
       "                                 LAVADORAS                   21207\n",
       "                                 COMPONENTES DE AUDIO        20827\n",
       "                                 JABON DE TOCADOR            20122\n",
       "                                 LECHE ULTRAPASTEURIZADA     18645\n",
       "                                 PANTALLAS                   17650\n",
       "                                 MAYONESA                    17138\n",
       "                                 REFRIGERADORES              16475\n",
       "SONORA                           REFRESCO                    34731\n",
       "                                 DETERGENTE P/ROPA           31997\n",
       "                                 SHAMPOO                     24758\n",
       "                                 JABON DE TOCADOR            23459\n",
       "                                 CHILES EN LATA              21761\n",
       "                                 MAYONESA                    20210\n",
       "                                 LAVADORAS                   19217\n",
       "                                 DESODORANTE                 18399\n",
       "                                 PANTALLAS                   18304\n",
       "                                 GALLETAS                    18239\n",
       "TABASCO                          REFRESCO                    28754\n",
       "                                 DETERGENTE P/ROPA           26431\n",
       "                                 LAVADORAS                   26361\n",
       "                                 LECHE ULTRAPASTEURIZADA     25331\n",
       "                                 FUD                         25004\n",
       "                                 VARIOS                      21577\n",
       "                                 COMPONENTES DE AUDIO        21085\n",
       "                                 CHILES EN LATA              20949\n",
       "                                 JABON DE TOCADOR            19841\n",
       "                                 PLANCHAS                    19808\n",
       "TAMAULIPAS                       REFRESCO                    22457\n",
       "                                 FUD                         21113\n",
       "                                 DETERGENTE P/ROPA           20291\n",
       "                                 SHAMPOO                     19141\n",
       "                                 JABON DE TOCADOR            17167\n",
       "                                 CHILES EN LATA              16008\n",
       "                                 DESODORANTE                 15994\n",
       "                                 CEREALES                    15398\n",
       "                                 PANTALLAS                   15180\n",
       "                                 MAYONESA                    15014\n",
       "TLAXCALA                         REFRESCO                    43904\n",
       "                                 DETERGENTE P/ROPA           41398\n",
       "                                 LECHE ULTRAPASTEURIZADA     32169\n",
       "                                 JABON DE TOCADOR            30977\n",
       "                                 SHAMPOO                     30235\n",
       "                                 CHILES EN LATA              25479\n",
       "                                 MAYONESA                    24884\n",
       "                                 ACEITE                      23236\n",
       "                                 TOALLA FEMENINA             22565\n",
       "                                 LECHE EN POLVO              22034\n",
       "VERACRUZ DE IGNACIO DE LA LLAVE  REFRESCO                    14576\n",
       "                                 LECHE ULTRAPASTEURIZADA     12051\n",
       "                                 DETERGENTE P/ROPA           10345\n",
       "                                 FUD                          9482\n",
       "                                 LAVADORAS                    9231\n",
       "                                 SHAMPOO                      8830\n",
       "                                 JABON DE TOCADOR             8405\n",
       "                                 DESODORANTE                  8213\n",
       "                                 PANTALLAS                    7814\n",
       "                                 CHILES EN LATA               7658\n",
       "YUCATÁN                          LECHE ULTRAPASTEURIZADA     35991\n",
       "                                 DETERGENTE P/ROPA           33390\n",
       "                                 REFRESCO                    33235\n",
       "                                 FUD                         31885\n",
       "                                 LAVADORAS                   27013\n",
       "                                 CHILES EN LATA              24472\n",
       "                                 MAYONESA                    23629\n",
       "                                 SHAMPOO                     23433\n",
       "                                 PLANCHAS                    22816\n",
       "                                 LECHE EN POLVO              22696\n",
       "ZACATECAS                        DETERGENTE P/ROPA           20884\n",
       "                                 LECHE ULTRAPASTEURIZADA     17309\n",
       "                                 LAVADORAS                   16072\n",
       "                                 MAYONESA                    15927\n",
       "                                 JABON DE TOCADOR            15926\n",
       "                                 FUD                         15541\n",
       "                                 SHAMPOO                     15012\n",
       "                                 CHILES EN LATA              14866\n",
       "                                 COMPONENTES DE AUDIO        14799\n",
       "                                 REFRESCO                    13925\n",
       "estado                           producto                       20\n",
       "Name: producto, dtype: int64"
      ]
     },
     "execution_count": 19,
     "metadata": {},
     "output_type": "execute_result"
    }
   ],
   "source": [
    "print(\"Top 10 products by state\")\n",
    "df.groupby(['estado']).producto.value_counts().groupby(level=0, group_keys=False).head(10)"
   ]
  },
  {
   "cell_type": "markdown",
   "id": "d9ea8e89",
   "metadata": {},
   "source": [
    "## Q3: Which is the commercial chain with the highest number of monitored products?"
   ]
  },
  {
   "cell_type": "markdown",
   "id": "d21e58bc",
   "metadata": {},
   "source": [
    "Similar to the last question, making a group of commercial chains with a count group of products (but using <code>count()</code> instead of <code> value_counts()</code> to count all the cells ) give me a list of unique commercial chains and its products. then I reduced the result to 1 and sort it in descending order with <code>.sort_values(ascending=False).head(1)</code> ."
   ]
  },
  {
   "cell_type": "code",
   "execution_count": 20,
   "id": "def6e140",
   "metadata": {},
   "outputs": [
    {
     "name": "stdout",
     "output_type": "stream",
     "text": [
      "Commercial chain with the highest number of monitored products:\n"
     ]
    },
    {
     "data": {
      "text/plain": [
       "cadenaComercial\n",
       "WAL-MART    8643133\n",
       "Name: producto, dtype: int64"
      ]
     },
     "execution_count": 20,
     "metadata": {},
     "output_type": "execute_result"
    }
   ],
   "source": [
    "print(\"Commercial chain with the highest number of monitored products:\")\n",
    "df.groupby(['cadenaComercial']).producto.count().sort_values(ascending=False).head(1)"
   ]
  },
  {
   "cell_type": "markdown",
   "id": "deab77ae",
   "metadata": {},
   "source": [
    "## Q4: Use the data to find an interesting fact."
   ]
  },
  {
   "cell_type": "markdown",
   "id": "7ba83156",
   "metadata": {},
   "source": [
    "The <code>'presentation'</code> greatly increases the dataset making the type of product more precise. it could be interesting to find which products have the most presentations."
   ]
  },
  {
   "cell_type": "code",
   "execution_count": 17,
   "id": "786ea18c",
   "metadata": {},
   "outputs": [
    {
     "data": {
      "text/plain": [
       "producto\n",
       "VARIOS                           755\n",
       "MUÑECAS                          344\n",
       "PANTALLAS                        257\n",
       "JUGUETES ARMABLES                214\n",
       "LAVADORAS                        214\n",
       "MUÑECOS                          208\n",
       "TELEVISORES                      173\n",
       "CAMARAS DIGITALES                168\n",
       "LIBRO DE TEXTO DE MATEMATICAS    156\n",
       "COMPONENTES DE AUDIO             147\n",
       "Name: presentacion, dtype: int64"
      ]
     },
     "execution_count": 17,
     "metadata": {},
     "output_type": "execute_result"
    }
   ],
   "source": [
    "df.groupby(['producto']).presentacion.nunique().sort_values(ascending=False).head(10)"
   ]
  },
  {
   "cell_type": "markdown",
   "id": "ea98907f",
   "metadata": {},
   "source": [
    "With the exception of books, products like electronic devices and toys keep the largest number of presentations."
   ]
  },
  {
   "cell_type": "markdown",
   "id": "b6337876",
   "metadata": {},
   "source": [
    "\n",
    "Another piece of information that may be interesting would be to know if the number of commercial chains is similar for each state and if it is not, see their distribution"
   ]
  },
  {
   "cell_type": "code",
   "execution_count": 21,
   "id": "48d36f31",
   "metadata": {},
   "outputs": [
    {
     "data": {
      "text/plain": [
       "estado\n",
       "TLAXCALA                           105\n",
       "JALISCO                             86\n",
       "DISTRITO FEDERAL                    83\n",
       "MÉXICO                              80\n",
       "COAHUILA DE ZARAGOZA                72\n",
       "SONORA                              72\n",
       "MICHOACÁN DE OCAMPO                 70\n",
       "NUEVO LEÓN                          67\n",
       "QUINTANA ROO                        59\n",
       "TABASCO                             58\n",
       "GUANAJUATO                          58\n",
       "SINALOA                             58\n",
       "YUCATÁN                             54\n",
       "HIDALGO                             53\n",
       "PUEBLA                              53\n",
       "CHIHUAHUA                           52\n",
       "QUERÉTARO                           52\n",
       "VERACRUZ DE IGNACIO DE LA LLAVE     50\n",
       "AGUASCALIENTES                      47\n",
       "BAJA CALIFORNIA SUR                 45\n",
       "BAJA CALIFORNIA                     44\n",
       "COLIMA                              44\n",
       "ZACATECAS                           42\n",
       "OAXACA                              41\n",
       "TAMAULIPAS                          37\n",
       "MORELOS                             35\n",
       "SAN LUIS POTOSÍ                     35\n",
       "DURANGO                             35\n",
       "CHIAPAS                             31\n",
       "CAMPECHE                            30\n",
       "GUERRERO                            27\n",
       "NAYARIT                             25\n",
       "estado                               1\n",
       "Name: cadenaComercial, dtype: int64"
      ]
     },
     "execution_count": 21,
     "metadata": {},
     "output_type": "execute_result"
    }
   ],
   "source": [
    "df.groupby(['estado']).cadenaComercial.nunique().sort_values(ascending=False)"
   ]
  },
  {
   "cell_type": "code",
   "execution_count": 23,
   "id": "11652842",
   "metadata": {},
   "outputs": [
    {
     "data": {
      "text/plain": [
       "<AxesSubplot:xlabel='estado'>"
      ]
     },
     "execution_count": 23,
     "metadata": {},
     "output_type": "execute_result"
    },
    {
     "data": {
      "image/png": "[encoded data removed]",
      "text/plain": [
       "<Figure size 432x288 with 1 Axes>"
      ]
     },
     "metadata": {
      "needs_background": "light"
     },
     "output_type": "display_data"
    }
   ],
   "source": [
    "df.groupby(['estado']).cadenaComercial.nunique().sort_values(ascending=False).plot(kind=\"bar\")"
   ]
  },
  {
   "cell_type": "markdown",
   "id": "ed4c493c",
   "metadata": {},
   "source": [
    "Showing entities such as Jalisco and DF with a greater number of monitored commercial chains would be expected, but seeing Tlaxcala as the top could indicate investment projects of commercial chains in this area."
   ]
  },
  {
   "cell_type": "markdown",
   "id": "89a359e4",
   "metadata": {},
   "source": [
    "## Q5 What are the lessons learned from this exercise?"
   ]
  },
  {
   "cell_type": "markdown",
   "id": "cd02a10a",
   "metadata": {},
   "source": [
    "Knowing how to manipulate large data sets will be a fundamental part of the analysis processes, especially for national and international companies. Although having knowledge of programming and statistical analysis is important, being able to apply it in large-scale projects becomes just as important."
   ]
  },
  {
   "cell_type": "markdown",
   "id": "4eaa2d6b",
   "metadata": {},
   "source": [
    "## Q6: Can you identify other ways to approach this problem? "
   ]
  },
  {
   "cell_type": "markdown",
   "id": "dff2bf8f",
   "metadata": {},
   "source": [
    "Despite the flexibility of python with the use of different libraries to deal with most programming and data manipulation problems, there are more specialized languages that would be a better tool for the user. SQL, for example, is a language specialized in managing relational databases as well as better support in cloud servers that would be convenient to integrate in this Exploratory Analysis."
   ]
  },
  {
   "cell_type": "code",
   "execution_count": null,
   "id": "5dc1b35c",
   "metadata": {},
   "outputs": [],
   "source": []
  }
 ],
 "metadata": {
  "kernelspec": {
   "display_name": "Python 3",
   "language": "python",
   "name": "python3"
  },
  "language_info": {
   "codemirror_mode": {
    "name": "ipython",
    "version": 3
   },
   "file_extension": ".py",
   "mimetype": "text/x-python",
   "name": "python",
   "nbconvert_exporter": "python",
   "pygments_lexer": "ipython3",
   "version": "3.8.8"
  }
 },
 "nbformat": 4,
 "nbformat_minor": 5
}
